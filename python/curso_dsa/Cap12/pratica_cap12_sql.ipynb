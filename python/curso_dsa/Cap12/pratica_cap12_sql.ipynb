{
 "cells": [
  {
   "cell_type": "code",
   "execution_count": 1,
   "metadata": {},
   "outputs": [],
   "source": [
    "import sqlite3\n",
    "import pandas as pd"
   ]
  },
  {
   "cell_type": "code",
   "execution_count": 2,
   "metadata": {},
   "outputs": [],
   "source": [
    "con = sqlite3.connect('cap12_dsa.db')\n",
    "cursor = con.cursor()"
   ]
  },
  {
   "cell_type": "code",
   "execution_count": 3,
   "metadata": {},
   "outputs": [],
   "source": [
    "sql_query = \"\"\"SELECT name FROM sqlite_master WHERE type = 'table';\"\"\""
   ]
  },
  {
   "cell_type": "code",
   "execution_count": 4,
   "metadata": {},
   "outputs": [
    {
     "data": {
      "text/plain": [
       "<sqlite3.Cursor at 0x20ba6bd5fc0>"
      ]
     },
     "execution_count": 4,
     "metadata": {},
     "output_type": "execute_result"
    }
   ],
   "source": [
    "cursor.execute(sql_query)"
   ]
  },
  {
   "cell_type": "code",
   "execution_count": 5,
   "metadata": {},
   "outputs": [
    {
     "data": {
      "text/plain": [
       "[('tb_vendas_dsa',)]"
      ]
     },
     "execution_count": 5,
     "metadata": {},
     "output_type": "execute_result"
    }
   ],
   "source": [
    "cursor.fetchall()"
   ]
  },
  {
   "cell_type": "markdown",
   "metadata": {},
   "source": [
    "Qual a média das unidades vendidas?"
   ]
  },
  {
   "cell_type": "code",
   "execution_count": 6,
   "metadata": {},
   "outputs": [],
   "source": [
    "query_2 = 'SELECT AVG(unidades_vendidas) FROM tb_vendas_dsa;'"
   ]
  },
  {
   "cell_type": "code",
   "execution_count": 7,
   "metadata": {},
   "outputs": [
    {
     "data": {
      "text/plain": [
       "<sqlite3.Cursor at 0x20ba6bd5fc0>"
      ]
     },
     "execution_count": 7,
     "metadata": {},
     "output_type": "execute_result"
    }
   ],
   "source": [
    "cursor.execute(query_2)"
   ]
  },
  {
   "cell_type": "code",
   "execution_count": 8,
   "metadata": {},
   "outputs": [
    {
     "name": "stdout",
     "output_type": "stream",
     "text": [
      "[(10.506,)]\n"
     ]
    }
   ],
   "source": [
    "print(cursor.fetchall())"
   ]
  },
  {
   "cell_type": "markdown",
   "metadata": {},
   "source": [
    "Média de unidades vendidas por produto."
   ]
  },
  {
   "cell_type": "code",
   "execution_count": 9,
   "metadata": {},
   "outputs": [
    {
     "data": {
      "text/plain": [
       "[('Produto_1', 12.0),\n",
       " ('Produto_10', 9.5),\n",
       " ('Produto_11', 14.181818181818182),\n",
       " ('Produto_12', 8.846153846153847),\n",
       " ('Produto_13', 6.0),\n",
       " ('Produto_14', 9.166666666666666),\n",
       " ('Produto_15', 9.75),\n",
       " ('Produto_16', 8.25),\n",
       " ('Produto_17', 11.714285714285714),\n",
       " ('Produto_18', 13.083333333333334),\n",
       " ('Produto_19', 9.727272727272727),\n",
       " ('Produto_2', 9.25),\n",
       " ('Produto_20', 7.555555555555555),\n",
       " ('Produto_21', 10.285714285714286),\n",
       " ('Produto_22', 13.6875),\n",
       " ('Produto_23', 10.818181818181818),\n",
       " ('Produto_24', 12.272727272727273),\n",
       " ('Produto_25', 9.538461538461538),\n",
       " ('Produto_26', 9.363636363636363),\n",
       " ('Produto_27', 11.1),\n",
       " ('Produto_28', 9.0),\n",
       " ('Produto_29', 9.692307692307692),\n",
       " ('Produto_3', 8.909090909090908),\n",
       " ('Produto_30', 9.875),\n",
       " ('Produto_31', 7.9),\n",
       " ('Produto_32', 11.923076923076923),\n",
       " ('Produto_33', 12.285714285714286),\n",
       " ('Produto_34', 8.1),\n",
       " ('Produto_35', 9.0),\n",
       " ('Produto_36', 9.090909090909092),\n",
       " ('Produto_37', 11.0),\n",
       " ('Produto_38', 12.8),\n",
       " ('Produto_39', 12.666666666666666),\n",
       " ('Produto_4', 11.153846153846153),\n",
       " ('Produto_40', 7.25),\n",
       " ('Produto_41', 11.857142857142858),\n",
       " ('Produto_42', 10.272727272727273),\n",
       " ('Produto_43', 11.0),\n",
       " ('Produto_44', 7.2),\n",
       " ('Produto_45', 8.875),\n",
       " ('Produto_46', 12.142857142857142),\n",
       " ('Produto_47', 10.571428571428571),\n",
       " ('Produto_48', 14.0),\n",
       " ('Produto_49', 11.875),\n",
       " ('Produto_5', 10.2),\n",
       " ('Produto_50', 10.545454545454545),\n",
       " ('Produto_6', 12.0),\n",
       " ('Produto_7', 13.5625),\n",
       " ('Produto_8', 11.071428571428571),\n",
       " ('Produto_9', 7.2)]"
      ]
     },
     "execution_count": 9,
     "metadata": {},
     "output_type": "execute_result"
    }
   ],
   "source": [
    "query_3 = 'SELECT nome_produto, AVG(unidades_vendidas) FROM tb_vendas_dsa GROUP BY nome_produto;'\n",
    "cursor.execute(query_3)\n",
    "cursor.fetchall()"
   ]
  },
  {
   "cell_type": "markdown",
   "metadata": {},
   "source": [
    "Média de unidades vendidas por nome produto onde valor unitário é maior que 199."
   ]
  },
  {
   "cell_type": "code",
   "execution_count": 13,
   "metadata": {},
   "outputs": [
    {
     "data": {
      "text/plain": [
       "[('Produto_11', 1.0),\n",
       " ('Produto_15', 8.0),\n",
       " ('Produto_17', 14.0),\n",
       " ('Produto_20', 7.0),\n",
       " ('Produto_39', 16.0)]"
      ]
     },
     "execution_count": 13,
     "metadata": {},
     "output_type": "execute_result"
    }
   ],
   "source": [
    "query_4 = 'SELECT nome_produto, AVG(unidades_vendidas) FROM tb_vendas_dsa WHERE valor_unitario > 199 GROUP BY nome_produto;'\n",
    "cursor.execute(query_4)\n",
    "cursor.fetchall()"
   ]
  },
  {
   "cell_type": "code",
   "execution_count": 14,
   "metadata": {},
   "outputs": [],
   "source": [
    "query = 'SELECT * FROM tb_vendas_dsa;'\n",
    "cursor.execute(query)\n",
    "dados = cursor.fetchall()"
   ]
  },
  {
   "cell_type": "code",
   "execution_count": 15,
   "metadata": {},
   "outputs": [],
   "source": [
    "df = pd.DataFrame(dados, columns=['id_pedido', 'id_cliente', 'nome_produto', 'valor_unitario', 'unidades_vendidas', 'custo'])"
   ]
  },
  {
   "cell_type": "code",
   "execution_count": 16,
   "metadata": {},
   "outputs": [
    {
     "data": {
      "text/html": [
       "<div>\n",
       "<style scoped>\n",
       "    .dataframe tbody tr th:only-of-type {\n",
       "        vertical-align: middle;\n",
       "    }\n",
       "\n",
       "    .dataframe tbody tr th {\n",
       "        vertical-align: top;\n",
       "    }\n",
       "\n",
       "    .dataframe thead th {\n",
       "        text-align: right;\n",
       "    }\n",
       "</style>\n",
       "<table border=\"1\" class=\"dataframe\">\n",
       "  <thead>\n",
       "    <tr style=\"text-align: right;\">\n",
       "      <th></th>\n",
       "      <th>id_pedido</th>\n",
       "      <th>id_cliente</th>\n",
       "      <th>nome_produto</th>\n",
       "      <th>valor_unitario</th>\n",
       "      <th>unidades_vendidas</th>\n",
       "      <th>custo</th>\n",
       "    </tr>\n",
       "  </thead>\n",
       "  <tbody>\n",
       "    <tr>\n",
       "      <th>0</th>\n",
       "      <td>1</td>\n",
       "      <td>63</td>\n",
       "      <td>Produto_38</td>\n",
       "      <td>154.03</td>\n",
       "      <td>7</td>\n",
       "      <td>92.42</td>\n",
       "    </tr>\n",
       "    <tr>\n",
       "      <th>1</th>\n",
       "      <td>2</td>\n",
       "      <td>49</td>\n",
       "      <td>Produto_8</td>\n",
       "      <td>171.52</td>\n",
       "      <td>5</td>\n",
       "      <td>102.91</td>\n",
       "    </tr>\n",
       "    <tr>\n",
       "      <th>2</th>\n",
       "      <td>3</td>\n",
       "      <td>83</td>\n",
       "      <td>Produto_39</td>\n",
       "      <td>28.97</td>\n",
       "      <td>13</td>\n",
       "      <td>17.38</td>\n",
       "    </tr>\n",
       "    <tr>\n",
       "      <th>3</th>\n",
       "      <td>4</td>\n",
       "      <td>37</td>\n",
       "      <td>Produto_2</td>\n",
       "      <td>104.55</td>\n",
       "      <td>4</td>\n",
       "      <td>62.73</td>\n",
       "    </tr>\n",
       "    <tr>\n",
       "      <th>4</th>\n",
       "      <td>5</td>\n",
       "      <td>19</td>\n",
       "      <td>Produto_1</td>\n",
       "      <td>77.21</td>\n",
       "      <td>19</td>\n",
       "      <td>46.33</td>\n",
       "    </tr>\n",
       "  </tbody>\n",
       "</table>\n",
       "</div>"
      ],
      "text/plain": [
       "   id_pedido  id_cliente nome_produto  valor_unitario  unidades_vendidas  \\\n",
       "0          1          63   Produto_38          154.03                  7   \n",
       "1          2          49    Produto_8          171.52                  5   \n",
       "2          3          83   Produto_39           28.97                 13   \n",
       "3          4          37    Produto_2          104.55                  4   \n",
       "4          5          19    Produto_1           77.21                 19   \n",
       "\n",
       "    custo  \n",
       "0   92.42  \n",
       "1  102.91  \n",
       "2   17.38  \n",
       "3   62.73  \n",
       "4   46.33  "
      ]
     },
     "execution_count": 16,
     "metadata": {},
     "output_type": "execute_result"
    }
   ],
   "source": [
    "df.head()"
   ]
  },
  {
   "cell_type": "code",
   "execution_count": 17,
   "metadata": {},
   "outputs": [],
   "source": [
    "cursor.close()\n",
    "con.close()"
   ]
  },
  {
   "cell_type": "markdown",
   "metadata": {},
   "source": [
    "Média de unidades vendidas."
   ]
  },
  {
   "cell_type": "code",
   "execution_count": 18,
   "metadata": {},
   "outputs": [
    {
     "data": {
      "text/plain": [
       "10.506"
      ]
     },
     "execution_count": 18,
     "metadata": {},
     "output_type": "execute_result"
    }
   ],
   "source": [
    "media_unidades = df['unidades_vendidas'].mean()\n",
    "media_unidades"
   ]
  },
  {
   "cell_type": "markdown",
   "metadata": {},
   "source": [
    "Média de unidades vendidas por nome produto."
   ]
  },
  {
   "cell_type": "code",
   "execution_count": 20,
   "metadata": {},
   "outputs": [
    {
     "data": {
      "text/plain": [
       "nome_produto\n",
       "Produto_1     12.000000\n",
       "Produto_10     9.500000\n",
       "Produto_11    14.181818\n",
       "Produto_12     8.846154\n",
       "Produto_13     6.000000\n",
       "Produto_14     9.166667\n",
       "Produto_15     9.750000\n",
       "Produto_16     8.250000\n",
       "Produto_17    11.714286\n",
       "Produto_18    13.083333\n",
       "Produto_19     9.727273\n",
       "Produto_2      9.250000\n",
       "Produto_20     7.555556\n",
       "Produto_21    10.285714\n",
       "Produto_22    13.687500\n",
       "Produto_23    10.818182\n",
       "Produto_24    12.272727\n",
       "Produto_25     9.538462\n",
       "Produto_26     9.363636\n",
       "Produto_27    11.100000\n",
       "Produto_28     9.000000\n",
       "Produto_29     9.692308\n",
       "Produto_3      8.909091\n",
       "Produto_30     9.875000\n",
       "Produto_31     7.900000\n",
       "Produto_32    11.923077\n",
       "Produto_33    12.285714\n",
       "Produto_34     8.100000\n",
       "Produto_35     9.000000\n",
       "Produto_36     9.090909\n",
       "Produto_37    11.000000\n",
       "Produto_38    12.800000\n",
       "Produto_39    12.666667\n",
       "Produto_4     11.153846\n",
       "Produto_40     7.250000\n",
       "Produto_41    11.857143\n",
       "Produto_42    10.272727\n",
       "Produto_43    11.000000\n",
       "Produto_44     7.200000\n",
       "Produto_45     8.875000\n",
       "Produto_46    12.142857\n",
       "Produto_47    10.571429\n",
       "Produto_48    14.000000\n",
       "Produto_49    11.875000\n",
       "Produto_5     10.200000\n",
       "Produto_50    10.545455\n",
       "Produto_6     12.000000\n",
       "Produto_7     13.562500\n",
       "Produto_8     11.071429\n",
       "Produto_9      7.200000\n",
       "Name: unidades_vendidas, dtype: float64"
      ]
     },
     "execution_count": 20,
     "metadata": {},
     "output_type": "execute_result"
    }
   ],
   "source": [
    "media_unidades_por_nome = df.groupby('nome_produto')['unidades_vendidas'].mean()\n",
    "media_unidades_por_nome"
   ]
  },
  {
   "cell_type": "markdown",
   "metadata": {},
   "source": [
    "Média de unidades vendidas por nome produto onde valor unitário é maior que 199."
   ]
  },
  {
   "cell_type": "code",
   "execution_count": 21,
   "metadata": {},
   "outputs": [
    {
     "data": {
      "text/plain": [
       "nome_produto\n",
       "Produto_11     1.0\n",
       "Produto_15     8.0\n",
       "Produto_17    14.0\n",
       "Produto_20     7.0\n",
       "Produto_39    16.0\n",
       "Name: unidades_vendidas, dtype: float64"
      ]
     },
     "execution_count": 21,
     "metadata": {},
     "output_type": "execute_result"
    }
   ],
   "source": [
    "media_3 = df[df['valor_unitario'] > 199].groupby('nome_produto')['unidades_vendidas'].mean()\n",
    "media_3"
   ]
  }
 ],
 "metadata": {
  "kernelspec": {
   "display_name": "base",
   "language": "python",
   "name": "python3"
  },
  "language_info": {
   "codemirror_mode": {
    "name": "ipython",
    "version": 3
   },
   "file_extension": ".py",
   "mimetype": "text/x-python",
   "name": "python",
   "nbconvert_exporter": "python",
   "pygments_lexer": "ipython3",
   "version": "3.11.5"
  }
 },
 "nbformat": 4,
 "nbformat_minor": 2
}
