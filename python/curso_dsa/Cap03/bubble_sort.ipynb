{
 "cells": [
  {
   "cell_type": "markdown",
   "metadata": {},
   "source": [
    "## Algoritmo Bubble Sort\n",
    "\n",
    "Inicio\n",
    "    1. mensagem de boas vindas\n",
    "    2. solicitar ao usuário a lista com os dados desordenados\n",
    "    3. Começar a ordenação dos dados\n",
    "        3.1. criar um marcador e controlador\n",
    "        3.2. selecionar para um elemento\n",
    "        3.3. comparar com o elemento seguinte\n",
    "        3.4. se for maior, trocar de posição\n",
    "fim\n",
    "        "
   ]
  },
  {
   "cell_type": "code",
   "execution_count": 10,
   "metadata": {},
   "outputs": [
    {
     "name": "stdout",
     "output_type": "stream",
     "text": [
      "[1, 3, 5, 6, 7, 8]\n"
     ]
    }
   ],
   "source": [
    "lista = [8, 5, 7, 3, 6, 1]\n",
    "n = len(lista)\n",
    "for i in range(n):\n",
    "    for j in range(0, n-i-1):\n",
    "        if lista[j] > lista[j+1]:\n",
    "            lista[j], lista[j+1] = lista[j+1], lista[j]\n",
    "\n",
    "print(lista)"
   ]
  }
 ],
 "metadata": {
  "kernelspec": {
   "display_name": "Python 3",
   "language": "python",
   "name": "python3"
  },
  "language_info": {
   "codemirror_mode": {
    "name": "ipython",
    "version": 3
   },
   "file_extension": ".py",
   "mimetype": "text/x-python",
   "name": "python",
   "nbconvert_exporter": "python",
   "pygments_lexer": "ipython3",
   "version": "3.11.5"
  }
 },
 "nbformat": 4,
 "nbformat_minor": 2
}
