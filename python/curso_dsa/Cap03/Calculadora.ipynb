{
 "cells": [
  {
   "cell_type": "markdown",
   "id": "ad599925",
   "metadata": {},
   "source": [
    "## Criar uma calculadora simples com as funções de soma, subtrair, dividir e multiplicar.\n",
    "1. mensagem de boas vindas;\n",
    "2. pedir ao usuário os valores necessários;\n",
    "3. pedir ao usuário para informar o tipo da operação;\n",
    "4. fazer o processamento dos dados informados;\n",
    "5. exibir o resultado na tela."
   ]
  },
  {
   "cell_type": "code",
   "execution_count": 1,
   "id": "df4a472c",
   "metadata": {},
   "outputs": [],
   "source": [
    "print('Seja bem vindo!')"
   ]
  },
  {
   "cell_type": "code",
   "execution_count": 2,
   "id": "34a4dcf6",
   "metadata": {},
   "outputs": [
    {
     "name": "stdout",
     "output_type": "stream",
     "text": [
      "Insira o primeiro número: 15\n"
     ]
    }
   ],
   "source": [
    "primeiro_valor = float(input('Insira o primeiro número: '))"
   ]
  },
  {
   "cell_type": "code",
   "execution_count": 3,
   "id": "452c7363",
   "metadata": {},
   "outputs": [
    {
     "name": "stdout",
     "output_type": "stream",
     "text": [
      "Informe o segundo número: 26\n"
     ]
    }
   ],
   "source": [
    "segundo_valor = float(input('Informe o segundo número: '))"
   ]
  },
  {
   "cell_type": "code",
   "execution_count": 4,
   "id": "a9c5ef2c",
   "metadata": {},
   "outputs": [
    {
     "name": "stdout",
     "output_type": "stream",
     "text": [
      "Selecione o tipo da operação desejada (apenas os números):\n",
      "1 - Adição\n",
      "2 - Subtração\n",
      "3 - Divisão\n",
      "4 - Multiplicação4\n"
     ]
    }
   ],
   "source": [
    "operacao = int(input(\"\"\"Selecione o tipo da operação desejada (apenas os números):\n",
    "1 - Adição\n",
    "2 - Subtração\n",
    "3 - Divisão\n",
    "4 - Multiplicação \"\"\"))"
   ]
  },
  {
   "cell_type": "code",
   "execution_count": 5,
   "id": "5d046644",
   "metadata": {},
   "outputs": [],
   "source": [
    "resultado = 0\n",
    "if operacao == 1:\n",
    "    resultado = primeiro_valor + segundo_valor\n",
    "elif operacao == 2:\n",
    "    resultado = primeiro_valor - segundo_valor\n",
    "elif operacao == 3:\n",
    "    resultado = primeiro_valor / segundo_valor\n",
    "else:\n",
    "    resultado = primeiro_valor * segundo_valor"
   ]
  },
  {
   "cell_type": "code",
   "execution_count": 6,
   "id": "8066f670",
   "metadata": {},
   "outputs": [],
   "source": [
    "print(f'O resultado do cálculo foi {resultado}. Até mais!')"
   ]
  }
 ],
 "metadata": {
  "kernelspec": {
   "display_name": "Python 3 (ipykernel)",
   "language": "python",
   "name": "python3"
  },
  "language_info": {
   "codemirror_mode": {
    "name": "ipython",
    "version": 3
   },
   "file_extension": ".py",
   "mimetype": "text/x-python",
   "name": "python",
   "nbconvert_exporter": "python",
   "pygments_lexer": "ipython3",
   "version": "3.9.18"
  }
 },
 "nbformat": 4,
 "nbformat_minor": 5
}
