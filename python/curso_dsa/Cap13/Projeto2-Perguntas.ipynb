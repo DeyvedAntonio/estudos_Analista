{
 "cells": [
  {
   "cell_type": "code",
   "execution_count": null,
   "id": "b4db14f6",
   "metadata": {},
   "outputs": [],
   "source": [
    "# Imports\n",
    "import numpy as np\n",
    "import pandas as pd\n",
    "import matplotlib.pyplot as plt\n",
    "import seaborn as sns\n",
    "import datetime as dt"
   ]
  },
  {
   "cell_type": "markdown",
   "id": "cba483b3",
   "metadata": {},
   "source": [
    "## Carregando os Dados"
   ]
  },
  {
   "cell_type": "code",
   "execution_count": null,
   "id": "9e9a2f84",
   "metadata": {},
   "outputs": [],
   "source": [
    "# Carrega o dataset\n",
    "df_dsa = pd.read_csv('dados/dataset.csv')"
   ]
  },
  {
   "cell_type": "code",
   "execution_count": null,
   "id": "b2057c0d",
   "metadata": {},
   "outputs": [],
   "source": [
    "# Shape\n",
    "df_dsa.shape"
   ]
  },
  {
   "cell_type": "code",
   "execution_count": null,
   "id": "d2814227",
   "metadata": {
    "scrolled": true
   },
   "outputs": [],
   "source": [
    "# Amostra dos dados\n",
    "df_dsa.head()"
   ]
  },
  {
   "cell_type": "code",
   "execution_count": null,
   "id": "962249af",
   "metadata": {},
   "outputs": [],
   "source": [
    "# Amostra dos dados\n",
    "df_dsa.tail()"
   ]
  },
  {
   "cell_type": "markdown",
   "id": "3f0cf95a",
   "metadata": {},
   "source": [
    "## Análise Exploratória"
   ]
  },
  {
   "cell_type": "code",
   "execution_count": null,
   "id": "7e4c9a2d",
   "metadata": {},
   "outputs": [],
   "source": [
    "# Colunas do conjunto de dados\n",
    "df_dsa.columns"
   ]
  },
  {
   "cell_type": "code",
   "execution_count": null,
   "id": "43e7444e",
   "metadata": {},
   "outputs": [],
   "source": [
    "# Verificando o tipo de dado de cada coluna\n",
    "df_dsa.dtypes"
   ]
  },
  {
   "cell_type": "code",
   "execution_count": null,
   "id": "eec70bba",
   "metadata": {},
   "outputs": [],
   "source": [
    "# Resumo estatístico da coluna com o valor de venda\n",
    "df_dsa['Valor_Venda'].describe()"
   ]
  },
  {
   "cell_type": "code",
   "execution_count": null,
   "id": "b8165a80",
   "metadata": {},
   "outputs": [],
   "source": [
    "# Verificando se há registros duplicados\n",
    "df_dsa[df_dsa.duplicated()]"
   ]
  },
  {
   "cell_type": "code",
   "execution_count": null,
   "id": "936d1045",
   "metadata": {},
   "outputs": [],
   "source": [
    "# Verificando de há valores ausentes\n",
    "df_dsa.isnull().sum()"
   ]
  },
  {
   "cell_type": "code",
   "execution_count": null,
   "id": "4ded149a",
   "metadata": {},
   "outputs": [],
   "source": [
    "df_dsa.head()"
   ]
  },
  {
   "cell_type": "markdown",
   "id": "78c23315",
   "metadata": {},
   "source": [
    "## Pergunta de Negócio 1:\n",
    "\n",
    "### Qual Cidade com Maior Valor de Venda de Produtos da Categoria 'Office Supplies'?"
   ]
  },
  {
   "cell_type": "code",
   "execution_count": null,
   "id": "69296d71",
   "metadata": {},
   "outputs": [],
   "source": []
  },
  {
   "cell_type": "markdown",
   "id": "b2257a7b",
   "metadata": {},
   "source": [
    "## Pergunta de Negócio 2:\n",
    "\n",
    "### Qual o Total de Vendas Por Data do Pedido?\n",
    "\n",
    "Demonstre o resultado através de um gráfico de barras."
   ]
  },
  {
   "cell_type": "code",
   "execution_count": null,
   "id": "47ec7085",
   "metadata": {},
   "outputs": [],
   "source": []
  },
  {
   "cell_type": "markdown",
   "id": "2c27a9db",
   "metadata": {},
   "source": [
    "## Pergunta de Negócio 3:\n",
    "\n",
    "### Qual o Total de Vendas por Estado?\n",
    "\n",
    "Demonstre o resultado através de um gráfico de barras."
   ]
  },
  {
   "cell_type": "code",
   "execution_count": null,
   "id": "2187c6b6",
   "metadata": {},
   "outputs": [],
   "source": []
  },
  {
   "cell_type": "markdown",
   "id": "ac63cfc4",
   "metadata": {},
   "source": [
    "## Pergunta de Negócio 4:\n",
    "\n",
    "### Quais São as 10 Cidades com Maior Total de Vendas?\n",
    "\n",
    "Demonstre o resultado através de um gráfico de barras."
   ]
  },
  {
   "cell_type": "code",
   "execution_count": null,
   "id": "042ef540",
   "metadata": {},
   "outputs": [],
   "source": []
  },
  {
   "cell_type": "markdown",
   "id": "4831dc06",
   "metadata": {},
   "source": [
    "## Pergunta de Negócio 5:\n",
    "\n",
    "### Qual Segmento Teve o Maior Total de Vendas?\n",
    "\n",
    "Demonstre o resultado através de um gráfico de pizza."
   ]
  },
  {
   "cell_type": "code",
   "execution_count": null,
   "id": "70c90a68",
   "metadata": {},
   "outputs": [],
   "source": []
  },
  {
   "cell_type": "markdown",
   "id": "8eb0ea56",
   "metadata": {},
   "source": [
    "## Pergunta de Negócio 6 (Desafio Nível Baby):\n",
    "\n",
    "### Qual o Total de Vendas Por Segmento e Por Ano?"
   ]
  },
  {
   "cell_type": "code",
   "execution_count": null,
   "id": "14f10869",
   "metadata": {},
   "outputs": [],
   "source": []
  },
  {
   "cell_type": "markdown",
   "id": "56fbe644",
   "metadata": {},
   "source": [
    "## Pergunta de Negócio 7 (Desafio Nível Júnior):\n",
    "\n",
    "Os gestores da empresa estão considerando conceder diferentes faixas de descontos e gostariam de fazer uma simulação com base na regra abaixo:\n",
    "\n",
    "- Se o Valor_Venda for maior que 1000 recebe 15% de desconto.\n",
    "- Se o Valor_Venda for menor que 1000 recebe 10% de desconto.\n",
    "\n",
    "### Quantas Vendas Receberiam 15% de Desconto?"
   ]
  },
  {
   "cell_type": "code",
   "execution_count": null,
   "id": "5735af66",
   "metadata": {},
   "outputs": [],
   "source": []
  },
  {
   "cell_type": "markdown",
   "id": "f313c42a",
   "metadata": {},
   "source": [
    "## Pergunta de Negócio 8 (Desafio Nível Master):\n",
    "\n",
    "### Considere Que a Empresa Decida Conceder o Desconto de 15% do Item Anterior. Qual Seria a Média do Valor de Venda Antes e Depois do Desconto?"
   ]
  },
  {
   "cell_type": "code",
   "execution_count": null,
   "id": "47b8f2a4",
   "metadata": {},
   "outputs": [],
   "source": []
  },
  {
   "cell_type": "markdown",
   "id": "149e1214",
   "metadata": {},
   "source": [
    "## Pergunta de Negócio 9 (Desafio Nível Master Ninja):\n",
    "\n",
    "### Qual o Média de Vendas Por Segmento, Por Ano e Por Mês?\n",
    "\n",
    "Demonstre o resultado através de gráfico de linha."
   ]
  },
  {
   "cell_type": "code",
   "execution_count": null,
   "id": "1eed1a02",
   "metadata": {},
   "outputs": [],
   "source": []
  },
  {
   "cell_type": "markdown",
   "id": "836ba626",
   "metadata": {},
   "source": [
    "## Pergunta de Negócio 10 (Desafio Nível Master Ninja das Galáxias):\n",
    "\n",
    "### Qual o Total de Vendas Por Categoria e SubCategoria, Considerando Somente as Top 12 SubCategorias? \n",
    "\n",
    "Demonstre tudo através de um único gráfico."
   ]
  },
  {
   "cell_type": "code",
   "execution_count": null,
   "id": "53808b99",
   "metadata": {},
   "outputs": [],
   "source": []
  },
  {
   "cell_type": "markdown",
   "id": "9b22cb7c",
   "metadata": {},
   "source": [
    "# Fim"
   ]
  }
 ],
 "metadata": {
  "kernelspec": {
   "display_name": "Python 3 (ipykernel)",
   "language": "python",
   "name": "python3"
  },
  "language_info": {
   "codemirror_mode": {
    "name": "ipython",
    "version": 3
   },
   "file_extension": ".py",
   "mimetype": "text/x-python",
   "name": "python",
   "nbconvert_exporter": "python",
   "pygments_lexer": "ipython3",
   "version": "3.9.13"
  }
 },
 "nbformat": 4,
 "nbformat_minor": 5
}
