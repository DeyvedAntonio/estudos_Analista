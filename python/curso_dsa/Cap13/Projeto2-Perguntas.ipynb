{
 "cells": [
  {
   "cell_type": "code",
   "execution_count": null,
   "id": "b4db14f6",
   "metadata": {},
   "outputs": [],
   "source": [
    "# Imports\n",
    "import numpy as np\n",
    "import pandas as pd\n",
    "import matplotlib.pyplot as plt\n",
    "import seaborn as sns\n",
    "import datetime as dt\n",
    "\n",
    "%matplotlib inline"
   ]
  },
  {
   "cell_type": "markdown",
   "id": "cba483b3",
   "metadata": {},
   "source": [
    "## Carregando os Dados"
   ]
  },
  {
   "cell_type": "code",
   "execution_count": null,
   "id": "9e9a2f84",
   "metadata": {},
   "outputs": [],
   "source": [
    "# Carrega o dataset\n",
    "df_dsa = pd.read_csv('dados/dataset.csv')"
   ]
  },
  {
   "cell_type": "code",
   "execution_count": null,
   "id": "b2057c0d",
   "metadata": {},
   "outputs": [],
   "source": [
    "# Shape\n",
    "df_dsa.shape"
   ]
  },
  {
   "cell_type": "code",
   "execution_count": null,
   "id": "d2814227",
   "metadata": {
    "scrolled": true
   },
   "outputs": [],
   "source": [
    "# Amostra dos dados\n",
    "df_dsa.head()"
   ]
  },
  {
   "cell_type": "code",
   "execution_count": null,
   "id": "962249af",
   "metadata": {},
   "outputs": [],
   "source": [
    "# Amostra dos dados\n",
    "df_dsa.tail()"
   ]
  },
  {
   "cell_type": "markdown",
   "id": "3f0cf95a",
   "metadata": {},
   "source": [
    "## Análise Exploratória"
   ]
  },
  {
   "cell_type": "code",
   "execution_count": null,
   "id": "7e4c9a2d",
   "metadata": {},
   "outputs": [],
   "source": [
    "# Colunas do conjunto de dados\n",
    "df_dsa.columns"
   ]
  },
  {
   "cell_type": "code",
   "execution_count": null,
   "id": "43e7444e",
   "metadata": {},
   "outputs": [],
   "source": [
    "# Verificando o tipo de dado de cada coluna\n",
    "df_dsa.dtypes"
   ]
  },
  {
   "cell_type": "code",
   "execution_count": null,
   "id": "eec70bba",
   "metadata": {},
   "outputs": [],
   "source": [
    "# Resumo estatístico da coluna com o valor de venda\n",
    "df_dsa['Valor_Venda'].describe()"
   ]
  },
  {
   "cell_type": "code",
   "execution_count": null,
   "id": "b8165a80",
   "metadata": {},
   "outputs": [],
   "source": [
    "# Verificando se há registros duplicados\n",
    "df_dsa[df_dsa.duplicated()]"
   ]
  },
  {
   "cell_type": "code",
   "execution_count": null,
   "id": "936d1045",
   "metadata": {},
   "outputs": [],
   "source": [
    "# Verificando de há valores ausentes\n",
    "df_dsa.isnull().sum()"
   ]
  },
  {
   "cell_type": "code",
   "execution_count": null,
   "id": "4ded149a",
   "metadata": {},
   "outputs": [],
   "source": [
    "df_dsa.head()"
   ]
  },
  {
   "cell_type": "markdown",
   "id": "78c23315",
   "metadata": {},
   "source": [
    "## Pergunta de Negócio 1:\n",
    "\n",
    "### Qual Cidade com Maior Valor de Venda de Produtos da Categoria 'Office Supplies'?"
   ]
  },
  {
   "cell_type": "code",
   "execution_count": null,
   "id": "69296d71",
   "metadata": {},
   "outputs": [],
   "source": [
    "df_dsa_categoria_1 = df_dsa[df_dsa['Categoria'] == 'Office Supplies']\n",
    "df_dsa_categoria_1"
   ]
  },
  {
   "cell_type": "code",
   "execution_count": null,
   "id": "f07d7b89",
   "metadata": {},
   "outputs": [],
   "source": [
    "df_dsa_categoria_1[df_dsa_categoria_1['Valor_Venda'] == df_dsa_categoria_1['Valor_Venda'].max()]['Cidade']"
   ]
  },
  {
   "cell_type": "markdown",
   "id": "bea04b88",
   "metadata": {},
   "source": [
    "A resposta está errada, não considerei a repetição das cidades. Deveria ter somado os valores referentes a cada cidade e ter encontrado o valor máximo da soma por cidade."
   ]
  },
  {
   "cell_type": "code",
   "execution_count": null,
   "id": "ca6b498c",
   "metadata": {},
   "outputs": [],
   "source": [
    "df_dsa_p1 = df_dsa_categoria_1.groupby('Cidade')['Valor_Venda'].sum()\n",
    "df_dsa_p1"
   ]
  },
  {
   "cell_type": "code",
   "execution_count": null,
   "id": "7bfdd542",
   "metadata": {},
   "outputs": [],
   "source": [
    "print(f'A Cidade com a maior venda é {df_dsa_p1.idxmax()}')"
   ]
  },
  {
   "cell_type": "code",
   "execution_count": null,
   "id": "cfc3af49",
   "metadata": {},
   "outputs": [],
   "source": [
    "df_dsa_p1.sort_values(ascending=False)"
   ]
  },
  {
   "cell_type": "markdown",
   "id": "b2257a7b",
   "metadata": {},
   "source": [
    "## Pergunta de Negócio 2:\n",
    "\n",
    "### Qual o Total de Vendas Por Data do Pedido?\n",
    "\n",
    "Demonstre o resultado através de um gráfico de barras."
   ]
  },
  {
   "cell_type": "code",
   "execution_count": null,
   "id": "47ec7085",
   "metadata": {},
   "outputs": [],
   "source": [
    "df_dsa_data_total = df_dsa.groupby('Data_Pedido')['Valor_Venda'].sum()"
   ]
  },
  {
   "cell_type": "code",
   "execution_count": null,
   "id": "1b09c713",
   "metadata": {},
   "outputs": [],
   "source": [
    "%matplotlib inline\n",
    "\n",
    "plt.plot(df_dsa_data_total)\n",
    "plt.show()"
   ]
  },
  {
   "cell_type": "markdown",
   "id": "0f551f3f",
   "metadata": {},
   "source": [
    "Melhorando a visualização do gráfico."
   ]
  },
  {
   "cell_type": "code",
   "execution_count": null,
   "id": "5ab02af3",
   "metadata": {},
   "outputs": [],
   "source": [
    "plt.figure(figsize=(20, 6))\n",
    "df_dsa_data_total.plot(x='Data_Pedido', y='Valor_Venda', color='green')\n",
    "plt.title('Total de vendas por data do pedido')\n",
    "plt.show()"
   ]
  },
  {
   "cell_type": "markdown",
   "id": "2c27a9db",
   "metadata": {},
   "source": [
    "## Pergunta de Negócio 3:\n",
    "\n",
    "### Qual o Total de Vendas por Estado?\n",
    "\n",
    "Demonstre o resultado através de um gráfico de barras."
   ]
  },
  {
   "cell_type": "code",
   "execution_count": null,
   "id": "2187c6b6",
   "metadata": {},
   "outputs": [],
   "source": [
    "df_dsa_vendas_estado = df_dsa.groupby('Estado')['Valor_Venda'].sum()"
   ]
  },
  {
   "cell_type": "code",
   "execution_count": null,
   "id": "242410ad",
   "metadata": {},
   "outputs": [],
   "source": [
    "df_dsa_vendas_estado.head()"
   ]
  },
  {
   "cell_type": "code",
   "execution_count": null,
   "id": "ced16951",
   "metadata": {},
   "outputs": [],
   "source": [
    "plt.figure(figsize=(20, 6))\n",
    "df_dsa_vendas_estado.plot.bar(x='Estado', y='Valor_Venda', color='royalblue')\n",
    "plt.title('Total de vendas por Estado')\n",
    "plt.show()"
   ]
  },
  {
   "cell_type": "markdown",
   "id": "dad35724",
   "metadata": {},
   "source": [
    "Resposta correta, mas as ticks do eixo x devem ser rotacionadas para proporcionar uma leitura mais agradável."
   ]
  },
  {
   "cell_type": "markdown",
   "id": "ac63cfc4",
   "metadata": {},
   "source": [
    "## Pergunta de Negócio 4:\n",
    "\n",
    "### Quais São as 10 Cidades com Maior Total de Vendas?\n",
    "\n",
    "Demonstre o resultado através de um gráfico de barras."
   ]
  },
  {
   "cell_type": "code",
   "execution_count": null,
   "id": "042ef540",
   "metadata": {},
   "outputs": [],
   "source": [
    "df_dsa_vendas_cidades = df_dsa.groupby('Cidade')['Valor_Venda'].sum().reset_index()"
   ]
  },
  {
   "cell_type": "code",
   "execution_count": null,
   "id": "6b9bd142",
   "metadata": {},
   "outputs": [],
   "source": [
    "df_dsa_vendas_cidades_top_10 = df_dsa_vendas_cidades.sort_values(by='Valor_Venda', ascending=False).head(10)"
   ]
  },
  {
   "cell_type": "code",
   "execution_count": null,
   "id": "62528f40",
   "metadata": {},
   "outputs": [],
   "source": [
    "plt.figure(figsize=(15, 6))\n",
    "sns.barplot(data=df_dsa_vendas_cidades_top_10, y='Valor_Venda', x='Cidade').set(title='Top 10 Cidades com maior total de vendas')\n",
    "plt.show()"
   ]
  },
  {
   "cell_type": "markdown",
   "id": "f3000a29",
   "metadata": {},
   "source": [
    "Resposta correta. É possível mudar a paleta de cores usando: `sns.set_palette()`"
   ]
  },
  {
   "cell_type": "markdown",
   "id": "4831dc06",
   "metadata": {},
   "source": [
    "## Pergunta de Negócio 5:\n",
    "\n",
    "### Qual Segmento Teve o Maior Total de Vendas?\n",
    "\n",
    "Demonstre o resultado através de um gráfico de pizza."
   ]
  },
  {
   "cell_type": "code",
   "execution_count": null,
   "id": "70c90a68",
   "metadata": {},
   "outputs": [],
   "source": [
    "df_dsa.head()"
   ]
  },
  {
   "cell_type": "code",
   "execution_count": null,
   "id": "18eeeafc",
   "metadata": {},
   "outputs": [],
   "source": [
    "df_dsa[['Segmento', 'Valor_Venda']].info()"
   ]
  },
  {
   "cell_type": "code",
   "execution_count": null,
   "id": "3bf40002",
   "metadata": {},
   "outputs": [],
   "source": [
    "df_dsa['Segmento'].unique()"
   ]
  },
  {
   "cell_type": "code",
   "execution_count": null,
   "id": "76e069c5",
   "metadata": {},
   "outputs": [],
   "source": [
    "df_dsa_segmento_vendas = df_dsa.groupby('Segmento')['Valor_Venda'].sum().reset_index().sort_values(by='Valor_Venda', ascending=False).head()"
   ]
  },
  {
   "cell_type": "code",
   "execution_count": null,
   "id": "ee3a78cb",
   "metadata": {},
   "outputs": [],
   "source": [
    "df_dsa_segmento_vendas['Valor_Venda']"
   ]
  },
  {
   "cell_type": "code",
   "execution_count": null,
   "id": "949ffb5f",
   "metadata": {},
   "outputs": [],
   "source": [
    "fig, ax = plt.subplots()\n",
    "ax.pie(df_dsa_segmento_vendas['Valor_Venda'], explode=[.1, 0, 0], labels=df_dsa_segmento_vendas['Segmento'], autopct='%1.2f%%')\n",
    "plt.show"
   ]
  },
  {
   "cell_type": "markdown",
   "id": "fc4fda99",
   "metadata": {},
   "source": [
    "A resposta está correta. Foi recomendado pelo docente formatar o valor total de vendas."
   ]
  },
  {
   "cell_type": "markdown",
   "id": "8eb0ea56",
   "metadata": {},
   "source": [
    "## Pergunta de Negócio 6 (Desafio Nível Baby):\n",
    "\n",
    "### Qual o Total de Vendas Por Segmento e Por Ano?"
   ]
  },
  {
   "cell_type": "code",
   "execution_count": null,
   "id": "14f10869",
   "metadata": {},
   "outputs": [],
   "source": [
    "df_dsa['Data_Pedido'].info()"
   ]
  },
  {
   "cell_type": "code",
   "execution_count": null,
   "id": "5b0efef1",
   "metadata": {},
   "outputs": [],
   "source": [
    "df_dsa['Ano_Pedido'] = df_dsa['Data_Pedido'].str[-4:].astype('int64')"
   ]
  },
  {
   "cell_type": "code",
   "execution_count": null,
   "id": "54dd0dd8",
   "metadata": {},
   "outputs": [],
   "source": [
    "df_dsa.groupby(['Segmento', 'Ano_Pedido'])['Valor_Venda'].sum().reset_index()"
   ]
  },
  {
   "cell_type": "markdown",
   "id": "bb973f7c",
   "metadata": {},
   "source": [
    "A solução está correta, a resposta do docente foi diferente."
   ]
  },
  {
   "cell_type": "code",
   "execution_count": null,
   "id": "43fcb4ce",
   "metadata": {},
   "outputs": [],
   "source": [
    "df_dsa['Data_Pedido'] = pd.to_datetime(df_dsa['Data_Pedido'], dayfirst=True)"
   ]
  },
  {
   "cell_type": "code",
   "execution_count": null,
   "id": "944544e9",
   "metadata": {},
   "outputs": [],
   "source": [
    "df_dsa['Ano'] = df_dsa['Data_Pedido'].dt.year"
   ]
  },
  {
   "cell_type": "code",
   "execution_count": null,
   "id": "55c5d805",
   "metadata": {},
   "outputs": [],
   "source": [
    "df_dsa_p6 = df_dsa.groupby(['Ano', 'Segmento'])['Valor_Venda'].sum()"
   ]
  },
  {
   "cell_type": "code",
   "execution_count": null,
   "id": "585c09e7",
   "metadata": {},
   "outputs": [],
   "source": [
    "df_dsa_p6"
   ]
  },
  {
   "cell_type": "markdown",
   "id": "56fbe644",
   "metadata": {},
   "source": [
    "## Pergunta de Negócio 7 (Desafio Nível Júnior):\n",
    "\n",
    "Os gestores da empresa estão considerando conceder diferentes faixas de descontos e gostariam de fazer uma simulação com base na regra abaixo:\n",
    "\n",
    "- Se o Valor_Venda for maior que 1000 recebe 15% de desconto.\n",
    "- Se o Valor_Venda for menor que 1000 recebe 10% de desconto.\n",
    "\n",
    "### Quantas Vendas Receberiam 15% de Desconto?"
   ]
  },
  {
   "cell_type": "code",
   "execution_count": null,
   "id": "5735af66",
   "metadata": {},
   "outputs": [],
   "source": [
    "quantidade_vendas_maior_1000 = df_dsa['Valor_Venda'][df_dsa['Valor_Venda'] > 1000].count()"
   ]
  },
  {
   "cell_type": "code",
   "execution_count": null,
   "id": "547892c9",
   "metadata": {},
   "outputs": [],
   "source": [
    "quantidade_vendas_menor_1000 = df_dsa['Valor_Venda'][df_dsa['Valor_Venda'] < 1000].count()"
   ]
  },
  {
   "cell_type": "code",
   "execution_count": null,
   "id": "85415936",
   "metadata": {},
   "outputs": [],
   "source": [
    "print(f'A quantidade de vendas que receberiam 15% de desconto é {quantidade_vendas_maior_1000}')"
   ]
  },
  {
   "cell_type": "code",
   "execution_count": null,
   "id": "cd267d53",
   "metadata": {},
   "outputs": [],
   "source": [
    "print(f'A quantidade de vendas que receberiam 10% de desconto é {quantidade_vendas_menor_1000}')"
   ]
  },
  {
   "cell_type": "markdown",
   "id": "e171f923",
   "metadata": {},
   "source": [
    "A resposta está correta. O docente adicionaou uma nova coluna nos dados e fez os cálculos em cada linha do DataFrame."
   ]
  },
  {
   "cell_type": "code",
   "execution_count": null,
   "id": "95d8a632",
   "metadata": {},
   "outputs": [],
   "source": [
    "df_dsa['Desconto'] = np.where(df_dsa['Valor_Venda'] > 1000, 0.15, 0.10)"
   ]
  },
  {
   "cell_type": "code",
   "execution_count": null,
   "id": "5f71d259",
   "metadata": {},
   "outputs": [],
   "source": [
    "df_dsa['Desconto'].value_counts()"
   ]
  },
  {
   "cell_type": "markdown",
   "id": "f313c42a",
   "metadata": {},
   "source": [
    "## Pergunta de Negócio 8 (Desafio Nível Master):\n",
    "\n",
    "### Considere Que a Empresa Decida Conceder o Desconto de 15% do Item Anterior. Qual Seria a Média do Valor de Venda Antes e Depois do Desconto?"
   ]
  },
  {
   "cell_type": "code",
   "execution_count": null,
   "id": "47b8f2a4",
   "metadata": {},
   "outputs": [],
   "source": [
    "# média de venda antes do desconto\n",
    "print(f\"A média do valor de venda antes do desconto é de {round(df_dsa['Valor_Venda'][df_dsa['Valor_Venda'] > 1000].mean(), 2)}.\")"
   ]
  },
  {
   "cell_type": "code",
   "execution_count": null,
   "id": "849c8bb6",
   "metadata": {},
   "outputs": [],
   "source": [
    "df_dsa['valor_venda_desconto'] = np.where(df_dsa['Valor_Venda'] > 1000, \n",
    "                                          df_dsa['Valor_Venda'] - df_dsa['Valor_Venda'] * 0.15, \n",
    "                                          df_dsa['Valor_Venda'])"
   ]
  },
  {
   "cell_type": "code",
   "execution_count": null,
   "id": "2243d4fe",
   "metadata": {},
   "outputs": [],
   "source": [
    "print(f\"A média do valor de venda depois do desconto é de {round(df_dsa['valor_venda_desconto'][df_dsa['Valor_Venda'] > 1000].mean(), 2)}.\")"
   ]
  },
  {
   "cell_type": "markdown",
   "id": "00f04b23",
   "metadata": {},
   "source": [
    "A resposta está correta. A forma do docente foi diferente."
   ]
  },
  {
   "cell_type": "code",
   "execution_count": null,
   "id": "feb4aeea",
   "metadata": {},
   "outputs": [],
   "source": [
    "df_dsa['Valor_Venda_Desconto'] = df_dsa['Valor_Venda'] - (df_dsa['Valor_Venda'] * df_dsa['Desconto'])"
   ]
  },
  {
   "cell_type": "code",
   "execution_count": null,
   "id": "8e93ae51",
   "metadata": {},
   "outputs": [],
   "source": [
    "df_dsa_p8_vendas_antes = df_dsa.loc[df_dsa['Desconto']==0.15, 'Valor_Venda'].mean()"
   ]
  },
  {
   "cell_type": "code",
   "execution_count": null,
   "id": "34712d08",
   "metadata": {},
   "outputs": [],
   "source": [
    "# df_dsa_p8_vendas_depois = df_dsa.loc[df_dsa['Desconto']==0.15, 'Valor_Venda_desconto'].mean()"
   ]
  },
  {
   "cell_type": "markdown",
   "id": "149e1214",
   "metadata": {},
   "source": [
    "## Pergunta de Negócio 9 (Desafio Nível Master Ninja):\n",
    "\n",
    "### Qual o Média de Vendas Por Segmento, Por Ano e Por Mês?\n",
    "\n",
    "Demonstre o resultado através de gráfico de linha."
   ]
  },
  {
   "cell_type": "code",
   "execution_count": null,
   "id": "1eed1a02",
   "metadata": {},
   "outputs": [],
   "source": [
    "df_dsa.head()"
   ]
  },
  {
   "cell_type": "code",
   "execution_count": null,
   "id": "f3bb7864",
   "metadata": {},
   "outputs": [],
   "source": [
    "df_dsa['Data_Pedido'].info()"
   ]
  },
  {
   "cell_type": "code",
   "execution_count": null,
   "id": "661025fd",
   "metadata": {},
   "outputs": [],
   "source": [
    "df_dsa['Mes'] = df_dsa['Data_Pedido'].dt.month"
   ]
  },
  {
   "cell_type": "code",
   "execution_count": null,
   "id": "e20ec215",
   "metadata": {},
   "outputs": [],
   "source": [
    "df_dsa_media_vendas_segmento_ano_mes = df_dsa.groupby(['Segmento', 'Ano_Pedido', 'Mes'])['Valor_Venda'].agg([np.mean])"
   ]
  },
  {
   "cell_type": "code",
   "execution_count": null,
   "id": "8e860188",
   "metadata": {},
   "outputs": [],
   "source": [
    "df_dsa_media_vendas_segmento_ano_mes.index"
   ]
  },
  {
   "cell_type": "code",
   "execution_count": null,
   "id": "7da35b2e",
   "metadata": {},
   "outputs": [],
   "source": [
    "segmento = df_dsa_media_vendas_segmento_ano_mes.index.get_level_values(0)\n",
    "ano_pedido = df_dsa_media_vendas_segmento_ano_mes.index.get_level_values(1)\n",
    "mes = df_dsa_media_vendas_segmento_ano_mes.index.get_level_values(2)"
   ]
  },
  {
   "cell_type": "code",
   "execution_count": null,
   "id": "5de5c4c7",
   "metadata": {},
   "outputs": [],
   "source": [
    "plt.figure(figsize=(12, 6))\n",
    "fig1 = sns.relplot(kind='line',\n",
    "                   data=df_dsa_media_vendas_segmento_ano_mes,\n",
    "                   y='mean',\n",
    "                   x=mes,\n",
    "                   hue=segmento,\n",
    "                   col=ano_pedido,\n",
    "                   col_wrap=2)\n",
    "plt.show()"
   ]
  },
  {
   "cell_type": "markdown",
   "id": "a0514d67",
   "metadata": {},
   "source": [
    "Esse foi mais difícil, mas tudo certo isso fas parte do processo de aprendizagem."
   ]
  },
  {
   "cell_type": "markdown",
   "id": "836ba626",
   "metadata": {},
   "source": [
    "## Pergunta de Negócio 10 (Desafio Nível Master Ninja das Galáxias):\n",
    "\n",
    "### Qual o Total de Vendas Por Categoria e SubCategoria, Considerando Somente as Top 12 SubCategorias? \n",
    "\n",
    "Demonstre tudo através de um único gráfico."
   ]
  },
  {
   "cell_type": "code",
   "execution_count": null,
   "id": "53808b99",
   "metadata": {},
   "outputs": [],
   "source": []
  },
  {
   "cell_type": "markdown",
   "id": "9b22cb7c",
   "metadata": {},
   "source": [
    "# Fim"
   ]
  }
 ],
 "metadata": {
  "kernelspec": {
   "display_name": "Python 3 (ipykernel)",
   "language": "python",
   "name": "python3"
  },
  "language_info": {
   "codemirror_mode": {
    "name": "ipython",
    "version": 3
   },
   "file_extension": ".py",
   "mimetype": "text/x-python",
   "name": "python",
   "nbconvert_exporter": "python",
   "pygments_lexer": "ipython3",
   "version": "3.11.5"
  }
 },
 "nbformat": 4,
 "nbformat_minor": 5
}
