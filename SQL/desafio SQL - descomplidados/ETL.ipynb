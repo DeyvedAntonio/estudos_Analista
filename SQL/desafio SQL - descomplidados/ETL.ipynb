{
 "cells": [
  {
   "cell_type": "code",
   "execution_count": 1,
   "metadata": {},
   "outputs": [],
   "source": [
    "import numpy as np\n",
    "import pandas as pd\n",
    "import sqlite3"
   ]
  },
  {
   "cell_type": "code",
   "execution_count": 2,
   "metadata": {},
   "outputs": [],
   "source": [
    "# Leia o arquivo CSV usando o Pandas\n",
    "dados = pd.read_csv('netflix_titles.csv')"
   ]
  },
  {
   "cell_type": "code",
   "execution_count": 3,
   "metadata": {},
   "outputs": [],
   "source": [
    "# quebra da string e Transformação de tipos de dados\n",
    "dados['duration_min_seasons'] = dados['duration'].str.split(' ').str[0].astype(\"Int64\")"
   ]
  },
  {
   "cell_type": "code",
   "execution_count": 4,
   "metadata": {},
   "outputs": [],
   "source": [
    "dados = dados.drop(columns=['duration', 'date_added'])"
   ]
  },
  {
   "cell_type": "code",
   "execution_count": 5,
   "metadata": {},
   "outputs": [],
   "source": [
    "dados = dados.dropna(axis='columns', how='all')"
   ]
  },
  {
   "cell_type": "code",
   "execution_count": 6,
   "metadata": {},
   "outputs": [],
   "source": [
    "mudancas = {'director': 'Unknown', 'cast': 'Unknown', 'country': 'Unknown', 'duration_min_seasons': 0, 'rating': 'Unknown'}\n",
    "dados = dados.fillna(value=mudancas)"
   ]
  },
  {
   "cell_type": "code",
   "execution_count": 7,
   "metadata": {},
   "outputs": [
    {
     "data": {
      "text/plain": [
       "show_id  type   title  director  cast   country  release_year  rating  listed_in  description  duration_min_seasons\n",
       "False    False  False  False     False  False    False         False   False      False        False                   8807\n",
       "Name: count, dtype: int64"
      ]
     },
     "execution_count": 7,
     "metadata": {},
     "output_type": "execute_result"
    }
   ],
   "source": [
    "dados.isna().value_counts()"
   ]
  },
  {
   "cell_type": "code",
   "execution_count": 8,
   "metadata": {},
   "outputs": [],
   "source": [
    "# Conecte-se ao banco de dados SQLite\n",
    "conn = sqlite3.connect('desafio_descomplidados.db')\n",
    "\n",
    "# Salve o DataFrame no banco de dados SQLite\n",
    "dados.to_sql('netflix_title', conn, index=False, if_exists='replace')\n",
    "\n",
    "# Feche a conexão\n",
    "conn.close()"
   ]
  }
 ],
 "metadata": {
  "kernelspec": {
   "display_name": "base",
   "language": "python",
   "name": "python3"
  },
  "language_info": {
   "codemirror_mode": {
    "name": "ipython",
    "version": 3
   },
   "file_extension": ".py",
   "mimetype": "text/x-python",
   "name": "python",
   "nbconvert_exporter": "python",
   "pygments_lexer": "ipython3",
   "version": "3.11.5"
  }
 },
 "nbformat": 4,
 "nbformat_minor": 2
}
