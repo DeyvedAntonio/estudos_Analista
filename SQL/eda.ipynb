{
 "cells": [
  {
   "cell_type": "code",
   "execution_count": 85,
   "metadata": {},
   "outputs": [],
   "source": [
    "import pandas as pd\n",
    "import numpy as np\n",
    "import matplotlib.pyplot as plt"
   ]
  },
  {
   "cell_type": "code",
   "execution_count": 86,
   "metadata": {},
   "outputs": [],
   "source": [
    "dados = pd.read_csv('netflix_titles.csv')"
   ]
  },
  {
   "cell_type": "code",
   "execution_count": 87,
   "metadata": {},
   "outputs": [
    {
     "data": {
      "text/html": [
       "<div>\n",
       "<style scoped>\n",
       "    .dataframe tbody tr th:only-of-type {\n",
       "        vertical-align: middle;\n",
       "    }\n",
       "\n",
       "    .dataframe tbody tr th {\n",
       "        vertical-align: top;\n",
       "    }\n",
       "\n",
       "    .dataframe thead th {\n",
       "        text-align: right;\n",
       "    }\n",
       "</style>\n",
       "<table border=\"1\" class=\"dataframe\">\n",
       "  <thead>\n",
       "    <tr style=\"text-align: right;\">\n",
       "      <th></th>\n",
       "      <th>show_id</th>\n",
       "      <th>type</th>\n",
       "      <th>title</th>\n",
       "      <th>director</th>\n",
       "      <th>cast</th>\n",
       "      <th>country</th>\n",
       "      <th>date_added</th>\n",
       "      <th>release_year</th>\n",
       "      <th>rating</th>\n",
       "      <th>duration</th>\n",
       "      <th>listed_in</th>\n",
       "      <th>description</th>\n",
       "    </tr>\n",
       "  </thead>\n",
       "  <tbody>\n",
       "    <tr>\n",
       "      <th>0</th>\n",
       "      <td>s1</td>\n",
       "      <td>Movie</td>\n",
       "      <td>Dick Johnson Is Dead</td>\n",
       "      <td>Kirsten Johnson</td>\n",
       "      <td>NaN</td>\n",
       "      <td>United States</td>\n",
       "      <td>September 25, 2021</td>\n",
       "      <td>2020</td>\n",
       "      <td>PG-13</td>\n",
       "      <td>90 min</td>\n",
       "      <td>Documentaries</td>\n",
       "      <td>As her father nears the end of his life, filmm...</td>\n",
       "    </tr>\n",
       "    <tr>\n",
       "      <th>1</th>\n",
       "      <td>s2</td>\n",
       "      <td>TV Show</td>\n",
       "      <td>Blood &amp; Water</td>\n",
       "      <td>NaN</td>\n",
       "      <td>Ama Qamata, Khosi Ngema, Gail Mabalane, Thaban...</td>\n",
       "      <td>South Africa</td>\n",
       "      <td>September 24, 2021</td>\n",
       "      <td>2021</td>\n",
       "      <td>TV-MA</td>\n",
       "      <td>2 Seasons</td>\n",
       "      <td>International TV Shows, TV Dramas, TV Mysteries</td>\n",
       "      <td>After crossing paths at a party, a Cape Town t...</td>\n",
       "    </tr>\n",
       "    <tr>\n",
       "      <th>2</th>\n",
       "      <td>s3</td>\n",
       "      <td>TV Show</td>\n",
       "      <td>Ganglands</td>\n",
       "      <td>Julien Leclercq</td>\n",
       "      <td>Sami Bouajila, Tracy Gotoas, Samuel Jouy, Nabi...</td>\n",
       "      <td>NaN</td>\n",
       "      <td>September 24, 2021</td>\n",
       "      <td>2021</td>\n",
       "      <td>TV-MA</td>\n",
       "      <td>1 Season</td>\n",
       "      <td>Crime TV Shows, International TV Shows, TV Act...</td>\n",
       "      <td>To protect his family from a powerful drug lor...</td>\n",
       "    </tr>\n",
       "    <tr>\n",
       "      <th>3</th>\n",
       "      <td>s4</td>\n",
       "      <td>TV Show</td>\n",
       "      <td>Jailbirds New Orleans</td>\n",
       "      <td>NaN</td>\n",
       "      <td>NaN</td>\n",
       "      <td>NaN</td>\n",
       "      <td>September 24, 2021</td>\n",
       "      <td>2021</td>\n",
       "      <td>TV-MA</td>\n",
       "      <td>1 Season</td>\n",
       "      <td>Docuseries, Reality TV</td>\n",
       "      <td>Feuds, flirtations and toilet talk go down amo...</td>\n",
       "    </tr>\n",
       "    <tr>\n",
       "      <th>4</th>\n",
       "      <td>s5</td>\n",
       "      <td>TV Show</td>\n",
       "      <td>Kota Factory</td>\n",
       "      <td>NaN</td>\n",
       "      <td>Mayur More, Jitendra Kumar, Ranjan Raj, Alam K...</td>\n",
       "      <td>India</td>\n",
       "      <td>September 24, 2021</td>\n",
       "      <td>2021</td>\n",
       "      <td>TV-MA</td>\n",
       "      <td>2 Seasons</td>\n",
       "      <td>International TV Shows, Romantic TV Shows, TV ...</td>\n",
       "      <td>In a city of coaching centers known to train I...</td>\n",
       "    </tr>\n",
       "    <tr>\n",
       "      <th>5</th>\n",
       "      <td>s6</td>\n",
       "      <td>TV Show</td>\n",
       "      <td>Midnight Mass</td>\n",
       "      <td>Mike Flanagan</td>\n",
       "      <td>Kate Siegel, Zach Gilford, Hamish Linklater, H...</td>\n",
       "      <td>NaN</td>\n",
       "      <td>September 24, 2021</td>\n",
       "      <td>2021</td>\n",
       "      <td>TV-MA</td>\n",
       "      <td>1 Season</td>\n",
       "      <td>TV Dramas, TV Horror, TV Mysteries</td>\n",
       "      <td>The arrival of a charismatic young priest brin...</td>\n",
       "    </tr>\n",
       "    <tr>\n",
       "      <th>6</th>\n",
       "      <td>s7</td>\n",
       "      <td>Movie</td>\n",
       "      <td>My Little Pony: A New Generation</td>\n",
       "      <td>Robert Cullen, José Luis Ucha</td>\n",
       "      <td>Vanessa Hudgens, Kimiko Glenn, James Marsden, ...</td>\n",
       "      <td>NaN</td>\n",
       "      <td>September 24, 2021</td>\n",
       "      <td>2021</td>\n",
       "      <td>PG</td>\n",
       "      <td>91 min</td>\n",
       "      <td>Children &amp; Family Movies</td>\n",
       "      <td>Equestria's divided. But a bright-eyed hero be...</td>\n",
       "    </tr>\n",
       "    <tr>\n",
       "      <th>7</th>\n",
       "      <td>s8</td>\n",
       "      <td>Movie</td>\n",
       "      <td>Sankofa</td>\n",
       "      <td>Haile Gerima</td>\n",
       "      <td>Kofi Ghanaba, Oyafunmike Ogunlano, Alexandra D...</td>\n",
       "      <td>United States, Ghana, Burkina Faso, United Kin...</td>\n",
       "      <td>September 24, 2021</td>\n",
       "      <td>1993</td>\n",
       "      <td>TV-MA</td>\n",
       "      <td>125 min</td>\n",
       "      <td>Dramas, Independent Movies, International Movies</td>\n",
       "      <td>On a photo shoot in Ghana, an American model s...</td>\n",
       "    </tr>\n",
       "  </tbody>\n",
       "</table>\n",
       "</div>"
      ],
      "text/plain": [
       "  show_id     type                             title  \\\n",
       "0      s1    Movie              Dick Johnson Is Dead   \n",
       "1      s2  TV Show                     Blood & Water   \n",
       "2      s3  TV Show                         Ganglands   \n",
       "3      s4  TV Show             Jailbirds New Orleans   \n",
       "4      s5  TV Show                      Kota Factory   \n",
       "5      s6  TV Show                     Midnight Mass   \n",
       "6      s7    Movie  My Little Pony: A New Generation   \n",
       "7      s8    Movie                           Sankofa   \n",
       "\n",
       "                        director  \\\n",
       "0                Kirsten Johnson   \n",
       "1                            NaN   \n",
       "2                Julien Leclercq   \n",
       "3                            NaN   \n",
       "4                            NaN   \n",
       "5                  Mike Flanagan   \n",
       "6  Robert Cullen, José Luis Ucha   \n",
       "7                   Haile Gerima   \n",
       "\n",
       "                                                cast  \\\n",
       "0                                                NaN   \n",
       "1  Ama Qamata, Khosi Ngema, Gail Mabalane, Thaban...   \n",
       "2  Sami Bouajila, Tracy Gotoas, Samuel Jouy, Nabi...   \n",
       "3                                                NaN   \n",
       "4  Mayur More, Jitendra Kumar, Ranjan Raj, Alam K...   \n",
       "5  Kate Siegel, Zach Gilford, Hamish Linklater, H...   \n",
       "6  Vanessa Hudgens, Kimiko Glenn, James Marsden, ...   \n",
       "7  Kofi Ghanaba, Oyafunmike Ogunlano, Alexandra D...   \n",
       "\n",
       "                                             country          date_added  \\\n",
       "0                                      United States  September 25, 2021   \n",
       "1                                       South Africa  September 24, 2021   \n",
       "2                                                NaN  September 24, 2021   \n",
       "3                                                NaN  September 24, 2021   \n",
       "4                                              India  September 24, 2021   \n",
       "5                                                NaN  September 24, 2021   \n",
       "6                                                NaN  September 24, 2021   \n",
       "7  United States, Ghana, Burkina Faso, United Kin...  September 24, 2021   \n",
       "\n",
       "   release_year rating   duration  \\\n",
       "0          2020  PG-13     90 min   \n",
       "1          2021  TV-MA  2 Seasons   \n",
       "2          2021  TV-MA   1 Season   \n",
       "3          2021  TV-MA   1 Season   \n",
       "4          2021  TV-MA  2 Seasons   \n",
       "5          2021  TV-MA   1 Season   \n",
       "6          2021     PG     91 min   \n",
       "7          1993  TV-MA    125 min   \n",
       "\n",
       "                                           listed_in  \\\n",
       "0                                      Documentaries   \n",
       "1    International TV Shows, TV Dramas, TV Mysteries   \n",
       "2  Crime TV Shows, International TV Shows, TV Act...   \n",
       "3                             Docuseries, Reality TV   \n",
       "4  International TV Shows, Romantic TV Shows, TV ...   \n",
       "5                 TV Dramas, TV Horror, TV Mysteries   \n",
       "6                           Children & Family Movies   \n",
       "7   Dramas, Independent Movies, International Movies   \n",
       "\n",
       "                                         description  \n",
       "0  As her father nears the end of his life, filmm...  \n",
       "1  After crossing paths at a party, a Cape Town t...  \n",
       "2  To protect his family from a powerful drug lor...  \n",
       "3  Feuds, flirtations and toilet talk go down amo...  \n",
       "4  In a city of coaching centers known to train I...  \n",
       "5  The arrival of a charismatic young priest brin...  \n",
       "6  Equestria's divided. But a bright-eyed hero be...  \n",
       "7  On a photo shoot in Ghana, an American model s...  "
      ]
     },
     "execution_count": 87,
     "metadata": {},
     "output_type": "execute_result"
    }
   ],
   "source": [
    "dados.head(8)"
   ]
  },
  {
   "cell_type": "code",
   "execution_count": 88,
   "metadata": {},
   "outputs": [
    {
     "data": {
      "text/plain": [
       "Index(['show_id', 'type', 'title', 'director', 'cast', 'country', 'date_added',\n",
       "       'release_year', 'rating', 'duration', 'listed_in', 'description'],\n",
       "      dtype='object')"
      ]
     },
     "execution_count": 88,
     "metadata": {},
     "output_type": "execute_result"
    }
   ],
   "source": [
    "dados.columns"
   ]
  },
  {
   "cell_type": "code",
   "execution_count": 89,
   "metadata": {},
   "outputs": [
    {
     "data": {
      "text/plain": [
       "show_id         object\n",
       "type            object\n",
       "title           object\n",
       "director        object\n",
       "cast            object\n",
       "country         object\n",
       "date_added      object\n",
       "release_year     int64\n",
       "rating          object\n",
       "duration        object\n",
       "listed_in       object\n",
       "description     object\n",
       "dtype: object"
      ]
     },
     "execution_count": 89,
     "metadata": {},
     "output_type": "execute_result"
    }
   ],
   "source": [
    "dados.dtypes"
   ]
  },
  {
   "cell_type": "code",
   "execution_count": 90,
   "metadata": {},
   "outputs": [
    {
     "data": {
      "text/plain": [
       "count    8807.000000\n",
       "mean     2014.180198\n",
       "std         8.819312\n",
       "min      1925.000000\n",
       "25%      2013.000000\n",
       "50%      2017.000000\n",
       "75%      2019.000000\n",
       "max      2021.000000\n",
       "Name: release_year, dtype: float64"
      ]
     },
     "execution_count": 90,
     "metadata": {},
     "output_type": "execute_result"
    }
   ],
   "source": [
    "dados.release_year.describe()"
   ]
  },
  {
   "cell_type": "code",
   "execution_count": 91,
   "metadata": {},
   "outputs": [
    {
     "data": {
      "text/plain": [
       "2021"
      ]
     },
     "execution_count": 91,
     "metadata": {},
     "output_type": "execute_result"
    }
   ],
   "source": [
    "dados['release_year'].max()"
   ]
  },
  {
   "cell_type": "code",
   "execution_count": 92,
   "metadata": {},
   "outputs": [
    {
     "data": {
      "text/plain": [
       "3"
      ]
     },
     "execution_count": 92,
     "metadata": {},
     "output_type": "execute_result"
    }
   ],
   "source": [
    "dados['duration'].isna().sum()"
   ]
  },
  {
   "cell_type": "code",
   "execution_count": 93,
   "metadata": {},
   "outputs": [
    {
     "data": {
      "text/plain": [
       "0          90 min\n",
       "1       2 Seasons\n",
       "2        1 Season\n",
       "3        1 Season\n",
       "4       2 Seasons\n",
       "          ...    \n",
       "8802      158 min\n",
       "8803    2 Seasons\n",
       "8804       88 min\n",
       "8805       88 min\n",
       "8806      111 min\n",
       "Name: duration, Length: 8807, dtype: object"
      ]
     },
     "execution_count": 93,
     "metadata": {},
     "output_type": "execute_result"
    }
   ],
   "source": [
    "dados['duration'].fillna(value=0) # TODO: não está preenchendo os valores ausentes."
   ]
  },
  {
   "cell_type": "code",
   "execution_count": 94,
   "metadata": {},
   "outputs": [
    {
     "data": {
      "text/plain": [
       "array(['90 min', '2 Seasons', '1 Season', '91 min', '125 min',\n",
       "       '9 Seasons', '104 min', '127 min', '4 Seasons', '67 min', '94 min',\n",
       "       '5 Seasons', '161 min', '61 min', '166 min', '147 min', '103 min',\n",
       "       '97 min', '106 min', '111 min', '3 Seasons', '110 min', '105 min',\n",
       "       '96 min', '124 min', '116 min', '98 min', '23 min', '115 min',\n",
       "       '122 min', '99 min', '88 min', '100 min', '6 Seasons', '102 min',\n",
       "       '93 min', '95 min', '85 min', '83 min', '113 min', '13 min',\n",
       "       '182 min', '48 min', '145 min', '87 min', '92 min', '80 min',\n",
       "       '117 min', '128 min', '119 min', '143 min', '114 min', '118 min',\n",
       "       '108 min', '63 min', '121 min', '142 min', '154 min', '120 min',\n",
       "       '82 min', '109 min', '101 min', '86 min', '229 min', '76 min',\n",
       "       '89 min', '156 min', '112 min', '107 min', '129 min', '135 min',\n",
       "       '136 min', '165 min', '150 min', '133 min', '70 min', '84 min',\n",
       "       '140 min', '78 min', '7 Seasons', '64 min', '59 min', '139 min',\n",
       "       '69 min', '148 min', '189 min', '141 min', '130 min', '138 min',\n",
       "       '81 min', '132 min', '10 Seasons', '123 min', '65 min', '68 min',\n",
       "       '66 min', '62 min', '74 min', '131 min', '39 min', '46 min',\n",
       "       '38 min', '8 Seasons', '17 Seasons', '126 min', '155 min',\n",
       "       '159 min', '137 min', '12 min', '273 min', '36 min', '34 min',\n",
       "       '77 min', '60 min', '49 min', '58 min', '72 min', '204 min',\n",
       "       '212 min', '25 min', '73 min', '29 min', '47 min', '32 min',\n",
       "       '35 min', '71 min', '149 min', '33 min', '15 min', '54 min',\n",
       "       '224 min', '162 min', '37 min', '75 min', '79 min', '55 min',\n",
       "       '158 min', '164 min', '173 min', '181 min', '185 min', '21 min',\n",
       "       '24 min', '51 min', '151 min', '42 min', '22 min', '134 min',\n",
       "       '177 min', '13 Seasons', '52 min', '14 min', '53 min', '8 min',\n",
       "       '57 min', '28 min', '50 min', '9 min', '26 min', '45 min',\n",
       "       '171 min', '27 min', '44 min', '146 min', '20 min', '157 min',\n",
       "       '17 min', '203 min', '41 min', '30 min', '194 min', '15 Seasons',\n",
       "       '233 min', '237 min', '230 min', '195 min', '253 min', '152 min',\n",
       "       '190 min', '160 min', '208 min', '180 min', '144 min', '5 min',\n",
       "       '174 min', '170 min', '192 min', '209 min', '187 min', '172 min',\n",
       "       '16 min', '186 min', '11 min', '193 min', '176 min', '56 min',\n",
       "       '169 min', '40 min', '10 min', '3 min', '168 min', '312 min',\n",
       "       '153 min', '214 min', '31 min', '163 min', '19 min', '12 Seasons',\n",
       "       nan, '179 min', '11 Seasons', '43 min', '200 min', '196 min',\n",
       "       '167 min', '178 min', '228 min', '18 min', '205 min', '201 min',\n",
       "       '191 min'], dtype=object)"
      ]
     },
     "execution_count": 94,
     "metadata": {},
     "output_type": "execute_result"
    }
   ],
   "source": [
    "dados['duration'].unique()"
   ]
  },
  {
   "cell_type": "code",
   "execution_count": 95,
   "metadata": {},
   "outputs": [],
   "source": [
    "dados['duration_min_seasons'] = dados['duration'].str.split(' ').str[0].astype(\"Int64\")"
   ]
  },
  {
   "cell_type": "code",
   "execution_count": 96,
   "metadata": {},
   "outputs": [
    {
     "data": {
      "text/plain": [
       "Index(['show_id', 'type', 'title', 'director', 'cast', 'country', 'date_added',\n",
       "       'release_year', 'rating', 'duration', 'listed_in', 'description',\n",
       "       'duration_min_seasons'],\n",
       "      dtype='object')"
      ]
     },
     "execution_count": 96,
     "metadata": {},
     "output_type": "execute_result"
    }
   ],
   "source": [
    "dados.columns"
   ]
  },
  {
   "cell_type": "code",
   "execution_count": 97,
   "metadata": {},
   "outputs": [
    {
     "data": {
      "text/plain": [
       "show_id                 object\n",
       "type                    object\n",
       "title                   object\n",
       "director                object\n",
       "cast                    object\n",
       "country                 object\n",
       "date_added              object\n",
       "release_year             int64\n",
       "rating                  object\n",
       "duration                object\n",
       "listed_in               object\n",
       "description             object\n",
       "duration_min_seasons     Int64\n",
       "dtype: object"
      ]
     },
     "execution_count": 97,
     "metadata": {},
     "output_type": "execute_result"
    }
   ],
   "source": [
    "dados.dtypes"
   ]
  },
  {
   "cell_type": "code",
   "execution_count": 98,
   "metadata": {},
   "outputs": [
    {
     "data": {
      "text/plain": [
       "312"
      ]
     },
     "execution_count": 98,
     "metadata": {},
     "output_type": "execute_result"
    }
   ],
   "source": [
    "dados['duration_min_seasons'].max()"
   ]
  },
  {
   "cell_type": "code",
   "execution_count": 99,
   "metadata": {},
   "outputs": [],
   "source": [
    "max_duration = dados.groupby('title')['duration_min_seasons'].max()"
   ]
  },
  {
   "cell_type": "code",
   "execution_count": 100,
   "metadata": {},
   "outputs": [],
   "source": [
    "title_max_duration = max_duration.idxmax()"
   ]
  },
  {
   "cell_type": "code",
   "execution_count": 101,
   "metadata": {},
   "outputs": [
    {
     "data": {
      "text/plain": [
       "'Black Mirror: Bandersnatch'"
      ]
     },
     "execution_count": 101,
     "metadata": {},
     "output_type": "execute_result"
    }
   ],
   "source": [
    "title_max_duration"
   ]
  },
  {
   "cell_type": "code",
   "execution_count": null,
   "metadata": {},
   "outputs": [],
   "source": []
  }
 ],
 "metadata": {
  "kernelspec": {
   "display_name": "base",
   "language": "python",
   "name": "python3"
  },
  "language_info": {
   "codemirror_mode": {
    "name": "ipython",
    "version": 3
   },
   "file_extension": ".py",
   "mimetype": "text/x-python",
   "name": "python",
   "nbconvert_exporter": "python",
   "pygments_lexer": "ipython3",
   "version": "3.11.5"
  }
 },
 "nbformat": 4,
 "nbformat_minor": 2
}
